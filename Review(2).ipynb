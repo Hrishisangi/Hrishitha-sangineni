{
  "cells": [
    {
      "cell_type": "code",
      "execution_count": null,
      "metadata": {
        "colab": {
          "base_uri": "https://localhost:8080/"
        },
        "id": "ZsTtUbCoVbzI",
        "outputId": "47561225-e4ad-4ad9-86f5-f064e8e995f5"
      },
      "outputs": [
        {
          "output_type": "stream",
          "name": "stdout",
          "text": [
            "     CustomerID  Gender  Age  Annual Income (k$)  Spending Score (1-100)\n",
            "0             1       0   19                  15                      39\n",
            "1             2       0   21                  15                      81\n",
            "2             3       1   20                  16                       6\n",
            "3             4       1   23                  16                      77\n",
            "4             5       1   31                  17                      40\n",
            "..          ...     ...  ...                 ...                     ...\n",
            "195         196       1   35                 120                      79\n",
            "196         197       1   45                 126                      28\n",
            "197         198       0   32                 126                      74\n",
            "198         199       0   32                 137                      18\n",
            "199         200       0   30                 137                      83\n",
            "\n",
            "[200 rows x 5 columns]\n"
          ]
        }
      ],
      "source": [
        "import pandas as pd\n",
        "d=pd.read_csv('/content/dataset_CSB.csv')\n",
        "print(d)"
      ]
    },
    {
      "cell_type": "code",
      "execution_count": null,
      "metadata": {
        "id": "k5km-AhdWKkg"
      },
      "outputs": [],
      "source": [
        "x=d.iloc[:,1:4]\n",
        "y=d.iloc[:,4:5]"
      ]
    },
    {
      "cell_type": "code",
      "execution_count": null,
      "metadata": {
        "id": "ITBIBVc-Wkpy",
        "colab": {
          "base_uri": "https://localhost:8080/"
        },
        "outputId": "fea41987-97d9-4979-ad16-f786ec437350"
      },
      "outputs": [
        {
          "output_type": "stream",
          "name": "stdout",
          "text": [
            "     Spending Score (1-100)\n",
            "0                        39\n",
            "1                        81\n",
            "2                         6\n",
            "3                        77\n",
            "4                        40\n",
            "..                      ...\n",
            "195                      79\n",
            "196                      28\n",
            "197                      74\n",
            "198                      18\n",
            "199                      83\n",
            "\n",
            "[200 rows x 1 columns]\n"
          ]
        }
      ],
      "source": [
        "#print(x)\n",
        "print(y)"
      ]
    },
    {
      "cell_type": "code",
      "execution_count": null,
      "metadata": {
        "id": "Ji1vqqGhWqx9"
      },
      "outputs": [],
      "source": [
        "from sklearn.model_selection import train_test_split"
      ]
    },
    {
      "cell_type": "code",
      "execution_count": null,
      "metadata": {
        "id": "RAi5SgfaW5IR",
        "colab": {
          "base_uri": "https://localhost:8080/"
        },
        "outputId": "d07b23a6-bf8c-4360-96a4-bfe09b7e9c5a"
      },
      "outputs": [
        {
          "output_type": "stream",
          "name": "stdout",
          "text": [
            "(200, 3)\n"
          ]
        }
      ],
      "source": [
        "print(x.shape)\n",
        "x_train,x_test,y_train,y_test=train_test_split(x,y,random_state=True,test_size=0.20)"
      ]
    },
    {
      "cell_type": "code",
      "source": [
        "print(x_train,y_train)"
      ],
      "metadata": {
        "id": "UQ3NvRGuzje5",
        "colab": {
          "base_uri": "https://localhost:8080/"
        },
        "outputId": "254d0181-8e2e-44e2-f66a-2c80118348c4"
      },
      "execution_count": null,
      "outputs": [
        {
          "output_type": "stream",
          "name": "stdout",
          "text": [
            "     Gender  Age  Annual Income (k$)\n",
            "108       0   68                  63\n",
            "107       0   54                  63\n",
            "189       1   36                 103\n",
            "14        0   37                  20\n",
            "56        1   51                  44\n",
            "..      ...  ...                 ...\n",
            "133       1   31                  72\n",
            "137       0   32                  73\n",
            "72        1   60                  50\n",
            "140       1   57                  75\n",
            "37        1   30                  34\n",
            "\n",
            "[160 rows x 3 columns]      Spending Score (1-100)\n",
            "108                      43\n",
            "107                      46\n",
            "189                      85\n",
            "14                       13\n",
            "56                       50\n",
            "..                      ...\n",
            "133                      71\n",
            "137                      73\n",
            "72                       49\n",
            "140                       5\n",
            "37                       73\n",
            "\n",
            "[160 rows x 1 columns]\n"
          ]
        }
      ]
    },
    {
      "cell_type": "code",
      "execution_count": null,
      "metadata": {
        "id": "JxIuSpXoYhkC"
      },
      "outputs": [],
      "source": [
        "from sklearn.linear_model import LinearRegression"
      ]
    },
    {
      "cell_type": "code",
      "execution_count": null,
      "metadata": {
        "id": "9Noxqo3-YsVS"
      },
      "outputs": [],
      "source": [
        "lr=LinearRegression()"
      ]
    },
    {
      "cell_type": "code",
      "execution_count": null,
      "metadata": {
        "id": "kJMI3KXWaveS"
      },
      "outputs": [],
      "source": [
        "mm=lr.fit(x_train,y_train)"
      ]
    },
    {
      "cell_type": "code",
      "source": [
        "yp=mm.predict(x_test)"
      ],
      "metadata": {
        "id": "TNi-QUsf0-F4"
      },
      "execution_count": null,
      "outputs": []
    },
    {
      "cell_type": "code",
      "source": [
        "print(yp)"
      ],
      "metadata": {
        "id": "OijRmSbv1Evm",
        "colab": {
          "base_uri": "https://localhost:8080/"
        },
        "outputId": "a77863e0-5552-4edf-8447-39880e29f9c1"
      },
      "execution_count": null,
      "outputs": [
        {
          "output_type": "stream",
          "name": "stdout",
          "text": [
            "[[58.67481119]\n",
            " [35.21176026]\n",
            " [44.56175816]\n",
            " [33.10787564]\n",
            " [53.56839006]\n",
            " [58.99529835]\n",
            " [58.95925124]\n",
            " [54.42443731]\n",
            " [60.01635127]\n",
            " [55.83024369]\n",
            " [58.25006634]\n",
            " [39.70372998]\n",
            " [52.13436447]\n",
            " [45.53851013]\n",
            " [34.3793831 ]\n",
            " [45.50349382]\n",
            " [58.88593985]\n",
            " [61.47756527]\n",
            " [50.1118587 ]\n",
            " [40.55401092]\n",
            " [52.38378821]\n",
            " [52.26083551]\n",
            " [44.94117127]\n",
            " [56.5394286 ]\n",
            " [61.28785872]\n",
            " [63.30787695]\n",
            " [52.66846782]\n",
            " [49.74603981]\n",
            " [56.26609521]\n",
            " [50.29021903]\n",
            " [58.29539809]\n",
            " [55.70377266]\n",
            " [51.27152012]\n",
            " [58.91743783]\n",
            " [40.18922281]\n",
            " [59.56010844]\n",
            " [46.22730372]\n",
            " [38.99126631]\n",
            " [55.78060239]\n",
            " [53.4169786 ]]\n"
          ]
        }
      ]
    },
    {
      "cell_type": "code",
      "source": [
        "from sklearn.metrics import mean_squared_error\n",
        "print(mean_squared_error(yp,y_test))"
      ],
      "metadata": {
        "id": "qxCUjbT51JCD",
        "colab": {
          "base_uri": "https://localhost:8080/"
        },
        "outputId": "7baed6c8-1d09-4ae3-c963-4cfb20d15740"
      },
      "execution_count": null,
      "outputs": [
        {
          "output_type": "stream",
          "name": "stdout",
          "text": [
            "586.281517419185\n"
          ]
        }
      ]
    },
    {
      "cell_type": "code",
      "source": [
        "from sklearn.metrics import mean_absolute_error\n",
        "print(mean_absolute_error(yp,y_test))"
      ],
      "metadata": {
        "id": "g-L3Tu796xZ2",
        "colab": {
          "base_uri": "https://localhost:8080/"
        },
        "outputId": "4acacb07-0ab8-4e8b-99ad-75b9fe623372"
      },
      "execution_count": null,
      "outputs": [
        {
          "output_type": "stream",
          "name": "stdout",
          "text": [
            "20.114137047760217\n"
          ]
        }
      ]
    },
    {
      "cell_type": "code",
      "source": [
        "from sklearn.neighbors import KNeighborsRegressor\n",
        "model=KNeighborsRegressor()\n",
        "model.fit(x_train,y_train)\n",
        "y_pred=model.predict(x_test)\n",
        "print(y_pred)\n",
        "from sklearn.metrics import mean_squared_error\n",
        "print(mean_squared_error(y_test,y_pred))"
      ],
      "metadata": {
        "id": "hoiE5MnlPwre",
        "colab": {
          "base_uri": "https://localhost:8080/"
        },
        "outputId": "2b8f5bc8-75eb-41dd-9790-0145a5c4d58f"
      },
      "execution_count": null,
      "outputs": [
        {
          "output_type": "stream",
          "name": "stdout",
          "text": [
            "[[51.6]\n",
            " [43.6]\n",
            " [28.8]\n",
            " [47.8]\n",
            " [34.4]\n",
            " [54.4]\n",
            " [48.4]\n",
            " [53.2]\n",
            " [77.6]\n",
            " [69.8]\n",
            " [85.8]\n",
            " [14. ]\n",
            " [44.8]\n",
            " [45.6]\n",
            " [47.8]\n",
            " [53.2]\n",
            " [83.8]\n",
            " [79.4]\n",
            " [35.2]\n",
            " [49.4]\n",
            " [54.4]\n",
            " [44.8]\n",
            " [45.8]\n",
            " [50.2]\n",
            " [82.8]\n",
            " [42.6]\n",
            " [47. ]\n",
            " [37.4]\n",
            " [42.4]\n",
            " [72.2]\n",
            " [60.4]\n",
            " [56.6]\n",
            " [41.2]\n",
            " [85.8]\n",
            " [20.8]\n",
            " [49.4]\n",
            " [22.2]\n",
            " [51.4]\n",
            " [49.4]\n",
            " [56.6]]\n",
            "423.56500000000005\n"
          ]
        }
      ]
    },
    {
      "cell_type": "code",
      "source": [
        "from sklearn.svm import SVR\n",
        "model=SVR()\n",
        "model.fit(x_train,y_train)\n",
        "y_pred=model.predict(x_test)\n",
        "print(y_pred)\n",
        "from sklearn.metrics import mean_squared_error\n",
        "print(mean_squared_error(y_test,y_pred))"
      ],
      "metadata": {
        "colab": {
          "base_uri": "https://localhost:8080/"
        },
        "id": "lLxte0GDR7zn",
        "outputId": "fbcb61e8-b72b-4b0d-e40e-d35a385e7fc6"
      },
      "execution_count": null,
      "outputs": [
        {
          "output_type": "stream",
          "name": "stdout",
          "text": [
            "[54.37530775 48.61716872 50.91453716 48.05052711 53.7243511  55.95839677\n",
            " 54.40859468 55.26287532 56.03533299 53.5494327  54.7475286  51.08569708\n",
            " 54.4458321  49.81096264 48.1732178  49.8184354  53.90653458 56.10588342\n",
            " 51.23502717 49.57409426 53.46959866 54.34366608 50.55191183 53.06948147\n",
            " 56.27735507 55.4725466  53.17294725 52.88245753 55.08399953 53.93673072\n",
            " 54.71018058 53.39909054 54.32324979 54.94529923 50.26467715 53.93661772\n",
            " 51.06031125 48.58588236 53.3642384  53.54685513]\n",
            "611.8952045981362\n"
          ]
        },
        {
          "output_type": "stream",
          "name": "stderr",
          "text": [
            "/usr/local/lib/python3.9/dist-packages/sklearn/utils/validation.py:1143: DataConversionWarning: A column-vector y was passed when a 1d array was expected. Please change the shape of y to (n_samples, ), for example using ravel().\n",
            "  y = column_or_1d(y, warn=True)\n"
          ]
        }
      ]
    },
    {
      "cell_type": "code",
      "source": [
        "from sklearn.tree import DecisionTreeRegressor\n",
        "model=DecisionTreeRegressor()\n",
        "model.fit(x_train,y_train)\n",
        "y_pred=model.predict(x_test)\n",
        "print(y_pred)\n",
        "from sklearn.metrics import mean_squared_error\n",
        "print(mean_squared_error(y_test,y_pred))\n",
        "from sklearn import tree\n",
        "tree.plot_tree(model,filled=True)"
      ],
      "metadata": {
        "colab": {
          "base_uri": "https://localhost:8080/",
          "height": 1000
        },
        "id": "su2bro0ZRZvB",
        "outputId": "6293d76e-cd75-46e8-be71-9a936669e243"
      },
      "execution_count": null,
      "outputs": [
        {
          "output_type": "stream",
          "name": "stdout",
          "text": [
            "[65. 52.  4. 41. 17. 74. 41. 72. 82. 85. 97. 14.  6. 45. 48. 57. 78. 82.\n",
            " 35. 59. 60. 13. 52. 77. 82. 10. 98. 40. 13. 35. 65. 85. 16. 97.  5. 55.\n",
            " 26. 49. 54. 92.]\n",
            "1058.825\n"
          ]
        },
        {
          "output_type": "execute_result",
          "data": {
            "text/plain": [
              "[Text(0.46986920646067415, 0.9642857142857143, 'x[1] <= 40.5\\nsquared_error = 676.379\\nsamples = 160\\nvalue = 51.356'),\n",
              " Text(0.21589712078651685, 0.8928571428571429, 'x[1] <= 20.5\\nsquared_error = 687.251\\nsamples = 97\\nvalue = 60.918'),\n",
              " Text(0.047050561797752806, 0.8214285714285714, 'x[2] <= 69.0\\nsquared_error = 531.234\\nsamples = 16\\nvalue = 47.125'),\n",
              " Text(0.02949438202247191, 0.75, 'x[2] <= 18.5\\nsquared_error = 349.883\\nsamples = 14\\nvalue = 52.786'),\n",
              " Text(0.011235955056179775, 0.6785714285714286, 'x[2] <= 15.5\\nsquared_error = 272.25\\nsamples = 2\\nvalue = 22.5'),\n",
              " Text(0.0056179775280898875, 0.6071428571428571, 'squared_error = 0.0\\nsamples = 1\\nvalue = 39.0'),\n",
              " Text(0.016853932584269662, 0.6071428571428571, 'squared_error = 0.0\\nsamples = 1\\nvalue = 6.0'),\n",
              " Text(0.047752808988764044, 0.6785714285714286, 'x[2] <= 41.5\\nsquared_error = 184.472\\nsamples = 12\\nvalue = 57.833'),\n",
              " Text(0.028089887640449437, 0.6071428571428571, 'x[1] <= 19.0\\nsquared_error = 116.222\\nsamples = 3\\nvalue = 77.667'),\n",
              " Text(0.02247191011235955, 0.5357142857142857, 'squared_error = 0.0\\nsamples = 1\\nvalue = 92.0'),\n",
              " Text(0.033707865168539325, 0.5357142857142857, 'x[0] <= 0.5\\nsquared_error = 20.25\\nsamples = 2\\nvalue = 70.5'),\n",
              " Text(0.028089887640449437, 0.4642857142857143, 'squared_error = 0.0\\nsamples = 1\\nvalue = 66.0'),\n",
              " Text(0.03932584269662921, 0.4642857142857143, 'squared_error = 0.0\\nsamples = 1\\nvalue = 75.0'),\n",
              " Text(0.06741573033707865, 0.6071428571428571, 'x[2] <= 53.5\\nsquared_error = 32.395\\nsamples = 9\\nvalue = 51.222'),\n",
              " Text(0.056179775280898875, 0.5357142857142857, 'x[2] <= 47.0\\nsquared_error = 3.556\\nsamples = 3\\nvalue = 57.667'),\n",
              " Text(0.05056179775280899, 0.4642857142857143, 'squared_error = 0.0\\nsamples = 1\\nvalue = 55.0'),\n",
              " Text(0.06179775280898876, 0.4642857142857143, 'squared_error = 0.0\\nsamples = 2\\nvalue = 59.0'),\n",
              " Text(0.07865168539325842, 0.5357142857142857, 'x[2] <= 60.0\\nsquared_error = 15.667\\nsamples = 6\\nvalue = 48.0'),\n",
              " Text(0.07303370786516854, 0.4642857142857143, 'squared_error = 0.0\\nsamples = 1\\nvalue = 41.0'),\n",
              " Text(0.08426966292134831, 0.4642857142857143, 'x[2] <= 63.5\\nsquared_error = 7.04\\nsamples = 5\\nvalue = 49.4'),\n",
              " Text(0.07303370786516854, 0.39285714285714285, 'x[0] <= 0.5\\nsquared_error = 6.25\\nsamples = 2\\nvalue = 51.5'),\n",
              " Text(0.06741573033707865, 0.32142857142857145, 'squared_error = 0.0\\nsamples = 1\\nvalue = 49.0'),\n",
              " Text(0.07865168539325842, 0.32142857142857145, 'squared_error = 0.0\\nsamples = 1\\nvalue = 54.0'),\n",
              " Text(0.09550561797752809, 0.39285714285714285, 'x[2] <= 64.5\\nsquared_error = 2.667\\nsamples = 3\\nvalue = 48.0'),\n",
              " Text(0.0898876404494382, 0.32142857142857145, 'squared_error = 0.0\\nsamples = 1\\nvalue = 46.0'),\n",
              " Text(0.10112359550561797, 0.32142857142857145, 'x[1] <= 18.5\\nsquared_error = 1.0\\nsamples = 2\\nvalue = 49.0'),\n",
              " Text(0.09550561797752809, 0.25, 'squared_error = 0.0\\nsamples = 1\\nvalue = 48.0'),\n",
              " Text(0.10674157303370786, 0.25, 'squared_error = 0.0\\nsamples = 1\\nvalue = 50.0'),\n",
              " Text(0.06460674157303371, 0.75, 'x[2] <= 73.5\\nsquared_error = 6.25\\nsamples = 2\\nvalue = 7.5'),\n",
              " Text(0.05898876404494382, 0.6785714285714286, 'squared_error = 0.0\\nsamples = 1\\nvalue = 5.0'),\n",
              " Text(0.0702247191011236, 0.6785714285714286, 'squared_error = 0.0\\nsamples = 1\\nvalue = 10.0'),\n",
              " Text(0.3847436797752809, 0.8214285714285714, 'x[1] <= 32.5\\nsquared_error = 673.069\\nsamples = 81\\nvalue = 63.642'),\n",
              " Text(0.30214185393258425, 0.75, 'x[2] <= 77.5\\nsquared_error = 371.96\\nsamples = 50\\nvalue = 69.14'),\n",
              " Text(0.21523876404494383, 0.6785714285714286, 'x[2] <= 38.5\\nsquared_error = 398.171\\nsamples = 37\\nvalue = 64.865'),\n",
              " Text(0.16853932584269662, 0.6071428571428571, 'x[2] <= 36.0\\nsquared_error = 48.41\\nsamples = 12\\nvalue = 79.083'),\n",
              " Text(0.16292134831460675, 0.5357142857142857, 'x[1] <= 29.5\\nsquared_error = 36.264\\nsamples = 11\\nvalue = 77.909'),\n",
              " Text(0.14606741573033707, 0.4642857142857143, 'x[2] <= 19.0\\nsquared_error = 35.609\\nsamples = 8\\nvalue = 79.875'),\n",
              " Text(0.12921348314606743, 0.39285714285714285, 'x[2] <= 17.5\\nsquared_error = 51.5\\nsamples = 4\\nvalue = 82.0'),\n",
              " Text(0.12359550561797752, 0.32142857142857145, 'x[1] <= 21.5\\nsquared_error = 4.667\\nsamples = 3\\nvalue = 78.0'),\n",
              " Text(0.11797752808988764, 0.25, 'squared_error = 0.0\\nsamples = 1\\nvalue = 81.0'),\n",
              " Text(0.12921348314606743, 0.25, 'x[1] <= 22.5\\nsquared_error = 0.25\\nsamples = 2\\nvalue = 76.5'),\n",
              " Text(0.12359550561797752, 0.17857142857142858, 'squared_error = 0.0\\nsamples = 1\\nvalue = 76.0'),\n",
              " Text(0.1348314606741573, 0.17857142857142858, 'squared_error = 0.0\\nsamples = 1\\nvalue = 77.0'),\n",
              " Text(0.1348314606741573, 0.32142857142857145, 'squared_error = 0.0\\nsamples = 1\\nvalue = 94.0'),\n",
              " Text(0.16292134831460675, 0.39285714285714285, 'x[2] <= 26.0\\nsquared_error = 10.688\\nsamples = 4\\nvalue = 77.75'),\n",
              " Text(0.15730337078651685, 0.32142857142857145, 'x[1] <= 24.5\\nsquared_error = 6.222\\nsamples = 3\\nvalue = 76.333'),\n",
              " Text(0.15168539325842698, 0.25, 'x[0] <= 0.5\\nsquared_error = 1.0\\nsamples = 2\\nvalue = 78.0'),\n",
              " Text(0.14606741573033707, 0.17857142857142858, 'squared_error = 0.0\\nsamples = 1\\nvalue = 79.0'),\n",
              " Text(0.15730337078651685, 0.17857142857142858, 'squared_error = 0.0\\nsamples = 1\\nvalue = 77.0'),\n",
              " Text(0.16292134831460675, 0.25, 'squared_error = 0.0\\nsamples = 1\\nvalue = 73.0'),\n",
              " Text(0.16853932584269662, 0.32142857142857145, 'squared_error = 0.0\\nsamples = 1\\nvalue = 82.0'),\n",
              " Text(0.1797752808988764, 0.4642857142857143, 'x[2] <= 22.0\\nsquared_error = 0.222\\nsamples = 3\\nvalue = 72.667'),\n",
              " Text(0.17415730337078653, 0.39285714285714285, 'squared_error = 0.0\\nsamples = 1\\nvalue = 72.0'),\n",
              " Text(0.1853932584269663, 0.39285714285714285, 'squared_error = 0.0\\nsamples = 2\\nvalue = 73.0'),\n",
              " Text(0.17415730337078653, 0.5357142857142857, 'squared_error = 0.0\\nsamples = 1\\nvalue = 92.0'),\n",
              " Text(0.261938202247191, 0.6071428571428571, 'x[1] <= 27.5\\nsquared_error = 422.438\\nsamples = 25\\nvalue = 58.04'),\n",
              " Text(0.22752808988764045, 0.5357142857142857, 'x[2] <= 68.5\\nsquared_error = 206.167\\nsamples = 12\\nvalue = 46.0'),\n",
              " Text(0.20224719101123595, 0.4642857142857143, 'x[2] <= 46.5\\nsquared_error = 49.333\\nsamples = 9\\nvalue = 53.0'),\n",
              " Text(0.19662921348314608, 0.39285714285714285, 'squared_error = 0.0\\nsamples = 1\\nvalue = 65.0'),\n",
              " Text(0.20786516853932585, 0.39285714285714285, 'x[2] <= 59.5\\nsquared_error = 35.25\\nsamples = 8\\nvalue = 51.5'),\n",
              " Text(0.1853932584269663, 0.32142857142857145, 'x[1] <= 22.5\\nsquared_error = 3.25\\nsamples = 4\\nvalue = 54.5'),\n",
              " Text(0.17415730337078653, 0.25, 'x[1] <= 21.5\\nsquared_error = 1.0\\nsamples = 2\\nvalue = 56.0'),\n",
              " Text(0.16853932584269662, 0.17857142857142858, 'squared_error = 0.0\\nsamples = 1\\nvalue = 57.0'),\n",
              " Text(0.1797752808988764, 0.17857142857142858, 'squared_error = 0.0\\nsamples = 1\\nvalue = 55.0'),\n",
              " Text(0.19662921348314608, 0.25, 'x[1] <= 24.5\\nsquared_error = 1.0\\nsamples = 2\\nvalue = 53.0'),\n",
              " Text(0.19101123595505617, 0.17857142857142858, 'squared_error = 0.0\\nsamples = 1\\nvalue = 52.0'),\n",
              " Text(0.20224719101123595, 0.17857142857142858, 'squared_error = 0.0\\nsamples = 1\\nvalue = 54.0'),\n",
              " Text(0.2303370786516854, 0.32142857142857145, 'x[1] <= 24.5\\nsquared_error = 49.25\\nsamples = 4\\nvalue = 48.5'),\n",
              " Text(0.21910112359550563, 0.25, 'x[1] <= 22.0\\nsquared_error = 0.25\\nsamples = 2\\nvalue = 41.5'),\n",
              " Text(0.21348314606741572, 0.17857142857142858, 'squared_error = 0.0\\nsamples = 1\\nvalue = 42.0'),\n",
              " Text(0.2247191011235955, 0.17857142857142858, 'squared_error = 0.0\\nsamples = 1\\nvalue = 41.0'),\n",
              " Text(0.24157303370786518, 0.25, 'x[2] <= 64.5\\nsquared_error = 0.25\\nsamples = 2\\nvalue = 55.5'),\n",
              " Text(0.23595505617977527, 0.17857142857142858, 'squared_error = 0.0\\nsamples = 1\\nvalue = 55.0'),\n",
              " Text(0.24719101123595505, 0.17857142857142858, 'squared_error = 0.0\\nsamples = 1\\nvalue = 56.0'),\n",
              " Text(0.25280898876404495, 0.4642857142857143, 'x[2] <= 74.5\\nsquared_error = 88.667\\nsamples = 3\\nvalue = 25.0'),\n",
              " Text(0.24719101123595505, 0.39285714285714285, 'x[2] <= 71.0\\nsquared_error = 6.25\\nsamples = 2\\nvalue = 31.5'),\n",
              " Text(0.24157303370786518, 0.32142857142857145, 'squared_error = 0.0\\nsamples = 1\\nvalue = 29.0'),\n",
              " Text(0.25280898876404495, 0.32142857142857145, 'squared_error = 0.0\\nsamples = 1\\nvalue = 34.0'),\n",
              " Text(0.25842696629213485, 0.39285714285714285, 'squared_error = 0.0\\nsamples = 1\\nvalue = 12.0'),\n",
              " Text(0.29634831460674155, 0.5357142857142857, 'x[2] <= 56.5\\nsquared_error = 364.746\\nsamples = 13\\nvalue = 69.154'),\n",
              " Text(0.2752808988764045, 0.4642857142857143, 'x[2] <= 39.5\\nsquared_error = 66.188\\nsamples = 4\\nvalue = 49.75'),\n",
              " Text(0.2696629213483146, 0.39285714285714285, 'squared_error = 0.0\\nsamples = 1\\nvalue = 61.0'),\n",
              " Text(0.2808988764044944, 0.39285714285714285, 'x[2] <= 41.5\\nsquared_error = 32.0\\nsamples = 3\\nvalue = 46.0'),\n",
              " Text(0.2752808988764045, 0.32142857142857145, 'squared_error = 0.0\\nsamples = 2\\nvalue = 42.0'),\n",
              " Text(0.28651685393258425, 0.32142857142857145, 'squared_error = 0.0\\nsamples = 1\\nvalue = 54.0'),\n",
              " Text(0.31741573033707865, 0.4642857142857143, 'x[0] <= 0.5\\nsquared_error = 255.728\\nsamples = 9\\nvalue = 77.778'),\n",
              " Text(0.30337078651685395, 0.39285714285714285, 'x[2] <= 74.0\\nsquared_error = 110.222\\nsamples = 3\\nvalue = 87.667'),\n",
              " Text(0.29775280898876405, 0.32142857142857145, 'squared_error = 0.0\\nsamples = 1\\nvalue = 73.0'),\n",
              " Text(0.3089887640449438, 0.32142857142857145, 'x[2] <= 76.0\\nsquared_error = 4.0\\nsamples = 2\\nvalue = 95.0'),\n",
              " Text(0.30337078651685395, 0.25, 'squared_error = 0.0\\nsamples = 1\\nvalue = 93.0'),\n",
              " Text(0.3146067415730337, 0.25, 'squared_error = 0.0\\nsamples = 1\\nvalue = 97.0'),\n",
              " Text(0.33146067415730335, 0.39285714285714285, 'x[1] <= 28.5\\nsquared_error = 255.139\\nsamples = 6\\nvalue = 72.833'),\n",
              " Text(0.3258426966292135, 0.32142857142857145, 'squared_error = 0.0\\nsamples = 1\\nvalue = 40.0'),\n",
              " Text(0.33707865168539325, 0.32142857142857145, 'x[2] <= 72.5\\nsquared_error = 47.44\\nsamples = 5\\nvalue = 79.4'),\n",
              " Text(0.3258426966292135, 0.25, 'x[2] <= 71.0\\nsquared_error = 9.0\\nsamples = 2\\nvalue = 74.0'),\n",
              " Text(0.3202247191011236, 0.17857142857142858, 'squared_error = 0.0\\nsamples = 1\\nvalue = 77.0'),\n",
              " Text(0.33146067415730335, 0.17857142857142858, 'squared_error = 0.0\\nsamples = 1\\nvalue = 71.0'),\n",
              " Text(0.34831460674157305, 0.25, 'x[2] <= 76.5\\nsquared_error = 40.667\\nsamples = 3\\nvalue = 83.0'),\n",
              " Text(0.34269662921348315, 0.17857142857142858, 'x[1] <= 30.5\\nsquared_error = 0.25\\nsamples = 2\\nvalue = 87.5'),\n",
              " Text(0.33707865168539325, 0.10714285714285714, 'squared_error = 0.0\\nsamples = 1\\nvalue = 88.0'),\n",
              " Text(0.34831460674157305, 0.10714285714285714, 'squared_error = 0.0\\nsamples = 1\\nvalue = 87.0'),\n",
              " Text(0.3539325842696629, 0.17857142857142858, 'squared_error = 0.0\\nsamples = 1\\nvalue = 74.0'),\n",
              " Text(0.3890449438202247, 0.6785714285714286, 'x[1] <= 31.5\\nsquared_error = 97.29\\nsamples = 13\\nvalue = 81.308'),\n",
              " Text(0.37359550561797755, 0.6071428571428571, 'x[2] <= 100.0\\nsquared_error = 64.444\\nsamples = 9\\nvalue = 85.0'),\n",
              " Text(0.3595505617977528, 0.5357142857142857, 'x[2] <= 80.0\\nsquared_error = 33.633\\nsamples = 7\\nvalue = 87.714'),\n",
              " Text(0.34831460674157305, 0.4642857142857143, 'x[1] <= 28.0\\nsquared_error = 20.222\\nsamples = 3\\nvalue = 83.333'),\n",
              " Text(0.34269662921348315, 0.39285714285714285, 'squared_error = 0.0\\nsamples = 1\\nvalue = 89.0'),\n",
              " Text(0.3539325842696629, 0.39285714285714285, 'x[2] <= 78.5\\nsquared_error = 6.25\\nsamples = 2\\nvalue = 80.5'),\n",
              " Text(0.34831460674157305, 0.32142857142857145, 'squared_error = 0.0\\nsamples = 1\\nvalue = 78.0'),\n",
              " Text(0.3595505617977528, 0.32142857142857145, 'squared_error = 0.0\\nsamples = 1\\nvalue = 83.0'),\n",
              " Text(0.3707865168539326, 0.4642857142857143, 'x[0] <= 0.5\\nsquared_error = 18.5\\nsamples = 4\\nvalue = 91.0'),\n",
              " Text(0.3651685393258427, 0.39285714285714285, 'squared_error = 0.0\\nsamples = 1\\nvalue = 97.0'),\n",
              " Text(0.37640449438202245, 0.39285714285714285, 'x[1] <= 30.5\\nsquared_error = 8.667\\nsamples = 3\\nvalue = 89.0'),\n",
              " Text(0.3707865168539326, 0.32142857142857145, 'x[1] <= 29.5\\nsquared_error = 1.0\\nsamples = 2\\nvalue = 87.0'),\n",
              " Text(0.3651685393258427, 0.25, 'squared_error = 0.0\\nsamples = 1\\nvalue = 88.0'),\n",
              " Text(0.37640449438202245, 0.25, 'squared_error = 0.0\\nsamples = 1\\nvalue = 86.0'),\n",
              " Text(0.38202247191011235, 0.32142857142857145, 'squared_error = 0.0\\nsamples = 1\\nvalue = 93.0'),\n",
              " Text(0.38764044943820225, 0.5357142857142857, 'x[1] <= 29.0\\nsquared_error = 56.25\\nsamples = 2\\nvalue = 75.5'),\n",
              " Text(0.38202247191011235, 0.4642857142857143, 'squared_error = 0.0\\nsamples = 1\\nvalue = 68.0'),\n",
              " Text(0.39325842696629215, 0.4642857142857143, 'squared_error = 0.0\\nsamples = 1\\nvalue = 83.0'),\n",
              " Text(0.4044943820224719, 0.6071428571428571, 'x[2] <= 92.0\\nsquared_error = 71.5\\nsamples = 4\\nvalue = 73.0'),\n",
              " Text(0.398876404494382, 0.5357142857142857, 'squared_error = 0.0\\nsamples = 1\\nvalue = 63.0'),\n",
              " Text(0.4101123595505618, 0.5357142857142857, 'x[2] <= 100.0\\nsquared_error = 50.889\\nsamples = 3\\nvalue = 76.333'),\n",
              " Text(0.4044943820224719, 0.4642857142857143, 'squared_error = 0.0\\nsamples = 1\\nvalue = 86.0'),\n",
              " Text(0.4157303370786517, 0.4642857142857143, 'x[2] <= 114.5\\nsquared_error = 6.25\\nsamples = 2\\nvalue = 71.5'),\n",
              " Text(0.4101123595505618, 0.39285714285714285, 'squared_error = 0.0\\nsamples = 1\\nvalue = 69.0'),\n",
              " Text(0.42134831460674155, 0.39285714285714285, 'squared_error = 0.0\\nsamples = 1\\nvalue = 74.0'),\n",
              " Text(0.46734550561797755, 0.75, 'x[2] <= 21.5\\nsquared_error = 1031.336\\nsamples = 31\\nvalue = 54.774'),\n",
              " Text(0.43820224719101125, 0.6785714285714286, 'x[2] <= 19.0\\nsquared_error = 12.25\\nsamples = 2\\nvalue = 9.5'),\n",
              " Text(0.43258426966292135, 0.6071428571428571, 'squared_error = 0.0\\nsamples = 1\\nvalue = 6.0'),\n",
              " Text(0.4438202247191011, 0.6071428571428571, 'squared_error = 0.0\\nsamples = 1\\nvalue = 13.0'),\n",
              " Text(0.4964887640449438, 0.6785714285714286, 'x[1] <= 34.5\\nsquared_error = 950.507\\nsamples = 29\\nvalue = 57.897'),\n",
              " Text(0.4550561797752809, 0.6071428571428571, 'x[2] <= 94.5\\nsquared_error = 1290.204\\nsamples = 7\\nvalue = 42.714'),\n",
              " Text(0.4438202247191011, 0.5357142857142857, 'x[2] <= 82.0\\nsquared_error = 1369.04\\nsamples = 5\\nvalue = 53.6'),\n",
              " Text(0.43820224719101125, 0.4642857142857143, 'x[2] <= 68.0\\nsquared_error = 1175.688\\nsamples = 4\\nvalue = 43.25'),\n",
              " Text(0.43258426966292135, 0.39285714285714285, 'squared_error = 0.0\\nsamples = 1\\nvalue = 60.0'),\n",
              " Text(0.4438202247191011, 0.39285714285714285, 'x[0] <= 0.5\\nsquared_error = 1442.889\\nsamples = 3\\nvalue = 37.667'),\n",
              " Text(0.43820224719101125, 0.32142857142857145, 'squared_error = 1980.25\\nsamples = 2\\nvalue = 45.5'),\n",
              " Text(0.449438202247191, 0.32142857142857145, 'squared_error = 0.0\\nsamples = 1\\nvalue = 22.0'),\n",
              " Text(0.449438202247191, 0.4642857142857143, 'squared_error = 0.0\\nsamples = 1\\nvalue = 95.0'),\n",
              " Text(0.46629213483146065, 0.5357142857142857, 'x[0] <= 0.5\\nsquared_error = 56.25\\nsamples = 2\\nvalue = 15.5'),\n",
              " Text(0.4606741573033708, 0.4642857142857143, 'squared_error = 0.0\\nsamples = 1\\nvalue = 8.0'),\n",
              " Text(0.47191011235955055, 0.4642857142857143, 'squared_error = 0.0\\nsamples = 1\\nvalue = 23.0'),\n",
              " Text(0.5379213483146067, 0.6071428571428571, 'x[1] <= 36.5\\nsquared_error = 745.744\\nsamples = 22\\nvalue = 62.727'),\n",
              " Text(0.5028089887640449, 0.5357142857142857, 'x[2] <= 80.5\\nsquared_error = 381.633\\nsamples = 7\\nvalue = 78.714'),\n",
              " Text(0.48314606741573035, 0.4642857142857143, 'x[0] <= 0.5\\nsquared_error = 668.222\\nsamples = 3\\nvalue = 68.333'),\n",
              " Text(0.47752808988764045, 0.39285714285714285, 'squared_error = 0.0\\nsamples = 1\\nvalue = 35.0'),\n",
              " Text(0.4887640449438202, 0.39285714285714285, 'x[2] <= 48.5\\nsquared_error = 169.0\\nsamples = 2\\nvalue = 85.0'),\n",
              " Text(0.48314606741573035, 0.32142857142857145, 'squared_error = 0.0\\nsamples = 1\\nvalue = 98.0'),\n",
              " Text(0.4943820224719101, 0.32142857142857145, 'squared_error = 0.0\\nsamples = 1\\nvalue = 72.0'),\n",
              " Text(0.5224719101123596, 0.4642857142857143, 'x[0] <= 0.5\\nsquared_error = 25.25\\nsamples = 4\\nvalue = 86.5'),\n",
              " Text(0.5112359550561798, 0.39285714285714285, 'x[2] <= 90.0\\nsquared_error = 1.0\\nsamples = 2\\nvalue = 91.0'),\n",
              " Text(0.5056179775280899, 0.32142857142857145, 'squared_error = 0.0\\nsamples = 1\\nvalue = 92.0'),\n",
              " Text(0.5168539325842697, 0.32142857142857145, 'squared_error = 0.0\\nsamples = 1\\nvalue = 90.0'),\n",
              " Text(0.5337078651685393, 0.39285714285714285, 'x[1] <= 35.5\\nsquared_error = 9.0\\nsamples = 2\\nvalue = 82.0'),\n",
              " Text(0.5280898876404494, 0.32142857142857145, 'squared_error = 0.0\\nsamples = 1\\nvalue = 79.0'),\n",
              " Text(0.5393258426966292, 0.32142857142857145, 'squared_error = 0.0\\nsamples = 1\\nvalue = 85.0'),\n",
              " Text(0.5730337078651685, 0.5357142857142857, 'x[1] <= 37.5\\nsquared_error = 740.729\\nsamples = 15\\nvalue = 55.267'),\n",
              " Text(0.5617977528089888, 0.4642857142857143, 'x[2] <= 87.5\\nsquared_error = 240.25\\nsamples = 2\\nvalue = 16.5'),\n",
              " Text(0.5561797752808989, 0.39285714285714285, 'squared_error = 0.0\\nsamples = 1\\nvalue = 1.0'),\n",
              " Text(0.5674157303370787, 0.39285714285714285, 'squared_error = 0.0\\nsamples = 1\\nvalue = 32.0'),\n",
              " Text(0.5842696629213483, 0.4642857142857143, 'x[2] <= 82.5\\nsquared_error = 550.947\\nsamples = 13\\nvalue = 61.231'),\n",
              " Text(0.5786516853932584, 0.39285714285714285, 'x[2] <= 68.0\\nsquared_error = 386.854\\nsamples = 12\\nvalue = 65.25'),\n",
              " Text(0.550561797752809, 0.32142857142857145, 'x[0] <= 0.5\\nsquared_error = 33.6\\nsamples = 5\\nvalue = 45.0'),\n",
              " Text(0.5393258426966292, 0.25, 'x[1] <= 39.0\\nsquared_error = 12.25\\nsamples = 2\\nvalue = 51.5'),\n",
              " Text(0.5337078651685393, 0.17857142857142858, 'squared_error = 0.0\\nsamples = 1\\nvalue = 55.0'),\n",
              " Text(0.5449438202247191, 0.17857142857142858, 'squared_error = 0.0\\nsamples = 1\\nvalue = 48.0'),\n",
              " Text(0.5617977528089888, 0.25, 'x[2] <= 62.0\\nsquared_error = 0.889\\nsamples = 3\\nvalue = 40.667'),\n",
              " Text(0.5561797752808989, 0.17857142857142858, 'squared_error = 0.0\\nsamples = 1\\nvalue = 40.0'),\n",
              " Text(0.5674157303370787, 0.17857142857142858, 'x[2] <= 65.5\\nsquared_error = 1.0\\nsamples = 2\\nvalue = 41.0'),\n",
              " Text(0.5617977528089888, 0.10714285714285714, 'squared_error = 0.0\\nsamples = 1\\nvalue = 42.0'),\n",
              " Text(0.5730337078651685, 0.10714285714285714, 'squared_error = 0.0\\nsamples = 1\\nvalue = 40.0'),\n",
              " Text(0.6067415730337079, 0.32142857142857145, 'x[0] <= 0.5\\nsquared_error = 137.061\\nsamples = 7\\nvalue = 79.714'),\n",
              " Text(0.5955056179775281, 0.25, 'x[1] <= 39.5\\nsquared_error = 68.96\\nsamples = 5\\nvalue = 84.8'),\n",
              " Text(0.5898876404494382, 0.17857142857142858, 'x[2] <= 70.0\\nsquared_error = 53.688\\nsamples = 4\\nvalue = 82.25'),\n",
              " Text(0.5842696629213483, 0.10714285714285714, 'squared_error = 0.0\\nsamples = 1\\nvalue = 91.0'),\n",
              " Text(0.5955056179775281, 0.10714285714285714, 'x[2] <= 74.5\\nsquared_error = 37.556\\nsamples = 3\\nvalue = 79.333'),\n",
              " Text(0.5898876404494382, 0.03571428571428571, 'squared_error = 0.0\\nsamples = 2\\nvalue = 75.0'),\n",
              " Text(0.601123595505618, 0.03571428571428571, 'squared_error = 0.0\\nsamples = 1\\nvalue = 88.0'),\n",
              " Text(0.601123595505618, 0.17857142857142858, 'squared_error = 0.0\\nsamples = 1\\nvalue = 95.0'),\n",
              " Text(0.6179775280898876, 0.25, 'x[1] <= 39.0\\nsquared_error = 81.0\\nsamples = 2\\nvalue = 67.0'),\n",
              " Text(0.6123595505617978, 0.17857142857142858, 'squared_error = 0.0\\nsamples = 1\\nvalue = 76.0'),\n",
              " Text(0.6235955056179775, 0.17857142857142858, 'squared_error = 0.0\\nsamples = 1\\nvalue = 58.0'),\n",
              " Text(0.5898876404494382, 0.39285714285714285, 'squared_error = 0.0\\nsamples = 1\\nvalue = 13.0'),\n",
              " Text(0.7238412921348315, 0.8928571428571429, 'x[2] <= 36.5\\nsquared_error = 302.168\\nsamples = 63\\nvalue = 36.635'),\n",
              " Text(0.601123595505618, 0.8214285714285714, 'x[1] <= 45.5\\nsquared_error = 77.778\\nsamples = 9\\nvalue = 12.0'),\n",
              " Text(0.5898876404494382, 0.75, 'x[2] <= 31.0\\nsquared_error = 56.25\\nsamples = 2\\nvalue = 24.5'),\n",
              " Text(0.5842696629213483, 0.6785714285714286, 'squared_error = 0.0\\nsamples = 1\\nvalue = 32.0'),\n",
              " Text(0.5955056179775281, 0.6785714285714286, 'squared_error = 0.0\\nsamples = 1\\nvalue = 17.0'),\n",
              " Text(0.6123595505617978, 0.75, 'x[2] <= 29.0\\nsquared_error = 26.531\\nsamples = 7\\nvalue = 8.429'),\n",
              " Text(0.6067415730337079, 0.6785714285714286, 'x[1] <= 50.0\\nsquared_error = 26.16\\nsamples = 5\\nvalue = 10.2'),\n",
              " Text(0.601123595505618, 0.6071428571428571, 'squared_error = 0.0\\nsamples = 1\\nvalue = 5.0'),\n",
              " Text(0.6123595505617978, 0.6071428571428571, 'x[2] <= 19.5\\nsquared_error = 24.25\\nsamples = 4\\nvalue = 11.5'),\n",
              " Text(0.601123595505618, 0.5357142857142857, 'x[1] <= 65.5\\nsquared_error = 30.25\\nsamples = 2\\nvalue = 8.5'),\n",
              " Text(0.5955056179775281, 0.4642857142857143, 'squared_error = 0.0\\nsamples = 1\\nvalue = 3.0'),\n",
              " Text(0.6067415730337079, 0.4642857142857143, 'squared_error = 0.0\\nsamples = 1\\nvalue = 14.0'),\n",
              " Text(0.6235955056179775, 0.5357142857142857, 'x[1] <= 56.0\\nsquared_error = 0.25\\nsamples = 2\\nvalue = 14.5'),\n",
              " Text(0.6179775280898876, 0.4642857142857143, 'squared_error = 0.0\\nsamples = 1\\nvalue = 14.0'),\n",
              " Text(0.6292134831460674, 0.4642857142857143, 'squared_error = 0.0\\nsamples = 1\\nvalue = 15.0'),\n",
              " Text(0.6179775280898876, 0.6785714285714286, 'squared_error = 0.0\\nsamples = 2\\nvalue = 4.0'),\n",
              " Text(0.8465589887640449, 0.8214285714285714, 'x[2] <= 69.0\\nsquared_error = 221.562\\nsamples = 54\\nvalue = 40.741'),\n",
              " Text(0.7324438202247191, 0.75, 'x[1] <= 48.5\\nsquared_error = 34.457\\nsamples = 38\\nvalue = 49.263'),\n",
              " Text(0.6544943820224719, 0.6785714285714286, 'x[2] <= 45.5\\nsquared_error = 22.6\\nsamples = 10\\nvalue = 45.0'),\n",
              " Text(0.6404494382022472, 0.6071428571428571, 'x[1] <= 47.5\\nsquared_error = 6.25\\nsamples = 2\\nvalue = 38.5'),\n",
              " Text(0.6348314606741573, 0.5357142857142857, 'squared_error = 0.0\\nsamples = 1\\nvalue = 41.0'),\n",
              " Text(0.6460674157303371, 0.5357142857142857, 'squared_error = 0.0\\nsamples = 1\\nvalue = 36.0'),\n",
              " Text(0.6685393258426966, 0.6071428571428571, 'x[1] <= 45.5\\nsquared_error = 13.484\\nsamples = 8\\nvalue = 46.625'),\n",
              " Text(0.6573033707865169, 0.5357142857142857, 'x[1] <= 44.0\\nsquared_error = 2.25\\nsamples = 2\\nvalue = 51.5'),\n",
              " Text(0.651685393258427, 0.4642857142857143, 'squared_error = 0.0\\nsamples = 1\\nvalue = 50.0'),\n",
              " Text(0.6629213483146067, 0.4642857142857143, 'squared_error = 0.0\\nsamples = 1\\nvalue = 53.0'),\n",
              " Text(0.6797752808988764, 0.5357142857142857, 'x[2] <= 51.5\\nsquared_error = 6.667\\nsamples = 6\\nvalue = 45.0'),\n",
              " Text(0.6741573033707865, 0.4642857142857143, 'squared_error = 0.0\\nsamples = 1\\nvalue = 42.0'),\n",
              " Text(0.6853932584269663, 0.4642857142857143, 'x[2] <= 60.5\\nsquared_error = 5.84\\nsamples = 5\\nvalue = 45.6'),\n",
              " Text(0.6797752808988764, 0.39285714285714285, 'x[2] <= 57.0\\nsquared_error = 3.25\\nsamples = 4\\nvalue = 46.5'),\n",
              " Text(0.6685393258426966, 0.32142857142857145, 'x[0] <= 0.5\\nsquared_error = 1.0\\nsamples = 2\\nvalue = 45.0'),\n",
              " Text(0.6629213483146067, 0.25, 'squared_error = 0.0\\nsamples = 1\\nvalue = 46.0'),\n",
              " Text(0.6741573033707865, 0.25, 'squared_error = 0.0\\nsamples = 1\\nvalue = 44.0'),\n",
              " Text(0.6910112359550562, 0.32142857142857145, 'x[1] <= 47.5\\nsquared_error = 1.0\\nsamples = 2\\nvalue = 48.0'),\n",
              " Text(0.6853932584269663, 0.25, 'squared_error = 0.0\\nsamples = 1\\nvalue = 47.0'),\n",
              " Text(0.6966292134831461, 0.25, 'squared_error = 0.0\\nsamples = 1\\nvalue = 49.0'),\n",
              " Text(0.6910112359550562, 0.39285714285714285, 'squared_error = 0.0\\nsamples = 1\\nvalue = 42.0'),\n",
              " Text(0.8103932584269663, 0.6785714285714286, 'x[1] <= 59.5\\nsquared_error = 29.883\\nsamples = 28\\nvalue = 50.786'),\n",
              " Text(0.7612359550561798, 0.6071428571428571, 'x[2] <= 64.0\\nsquared_error = 31.822\\nsamples = 15\\nvalue = 52.333'),\n",
              " Text(0.7415730337078652, 0.5357142857142857, 'x[1] <= 52.5\\nsquared_error = 30.864\\nsamples = 13\\nvalue = 51.462'),\n",
              " Text(0.7191011235955056, 0.4642857142857143, 'x[0] <= 0.5\\nsquared_error = 22.49\\nsamples = 7\\nvalue = 49.714'),\n",
              " Text(0.7134831460674157, 0.39285714285714285, 'squared_error = 0.0\\nsamples = 1\\nvalue = 56.0'),\n",
              " Text(0.7247191011235955, 0.39285714285714285, 'x[2] <= 42.5\\nsquared_error = 18.556\\nsamples = 6\\nvalue = 48.667'),\n",
              " Text(0.7134831460674157, 0.32142857142857145, 'x[1] <= 49.5\\nsquared_error = 2.25\\nsamples = 2\\nvalue = 53.5'),\n",
              " Text(0.7078651685393258, 0.25, 'squared_error = 0.0\\nsamples = 1\\nvalue = 52.0'),\n",
              " Text(0.7191011235955056, 0.25, 'squared_error = 0.0\\nsamples = 1\\nvalue = 55.0'),\n",
              " Text(0.7359550561797753, 0.32142857142857145, 'x[1] <= 50.5\\nsquared_error = 9.188\\nsamples = 4\\nvalue = 46.25'),\n",
              " Text(0.7303370786516854, 0.25, 'x[2] <= 58.0\\nsquared_error = 6.0\\nsamples = 3\\nvalue = 45.0'),\n",
              " Text(0.7247191011235955, 0.17857142857142858, 'x[1] <= 49.5\\nsquared_error = 2.25\\nsamples = 2\\nvalue = 43.5'),\n",
              " Text(0.7191011235955056, 0.10714285714285714, 'squared_error = 0.0\\nsamples = 1\\nvalue = 42.0'),\n",
              " Text(0.7303370786516854, 0.10714285714285714, 'squared_error = 0.0\\nsamples = 1\\nvalue = 45.0'),\n",
              " Text(0.7359550561797753, 0.17857142857142858, 'squared_error = 0.0\\nsamples = 1\\nvalue = 48.0'),\n",
              " Text(0.7415730337078652, 0.25, 'squared_error = 0.0\\nsamples = 1\\nvalue = 50.0'),\n",
              " Text(0.7640449438202247, 0.4642857142857143, 'x[2] <= 50.5\\nsquared_error = 32.917\\nsamples = 6\\nvalue = 53.5'),\n",
              " Text(0.7528089887640449, 0.39285714285714285, 'x[2] <= 45.0\\nsquared_error = 0.25\\nsamples = 2\\nvalue = 59.5'),\n",
              " Text(0.7471910112359551, 0.32142857142857145, 'squared_error = 0.0\\nsamples = 1\\nvalue = 60.0'),\n",
              " Text(0.7584269662921348, 0.32142857142857145, 'squared_error = 0.0\\nsamples = 1\\nvalue = 59.0'),\n",
              " Text(0.7752808988764045, 0.39285714285714285, 'x[0] <= 0.5\\nsquared_error = 22.25\\nsamples = 4\\nvalue = 50.5'),\n",
              " Text(0.7696629213483146, 0.32142857142857145, 'x[1] <= 55.5\\nsquared_error = 4.667\\nsamples = 3\\nvalue = 48.0'),\n",
              " Text(0.7640449438202247, 0.25, 'squared_error = 0.0\\nsamples = 1\\nvalue = 46.0'),\n",
              " Text(0.7752808988764045, 0.25, 'x[1] <= 58.0\\nsquared_error = 4.0\\nsamples = 2\\nvalue = 49.0'),\n",
              " Text(0.7696629213483146, 0.17857142857142858, 'squared_error = 0.0\\nsamples = 1\\nvalue = 51.0'),\n",
              " Text(0.7808988764044944, 0.17857142857142858, 'squared_error = 0.0\\nsamples = 1\\nvalue = 47.0'),\n",
              " Text(0.7808988764044944, 0.32142857142857145, 'squared_error = 0.0\\nsamples = 1\\nvalue = 58.0'),\n",
              " Text(0.7808988764044944, 0.5357142857142857, 'x[1] <= 49.5\\nsquared_error = 1.0\\nsamples = 2\\nvalue = 58.0'),\n",
              " Text(0.7752808988764045, 0.4642857142857143, 'squared_error = 0.0\\nsamples = 1\\nvalue = 59.0'),\n",
              " Text(0.7865168539325843, 0.4642857142857143, 'squared_error = 0.0\\nsamples = 1\\nvalue = 57.0'),\n",
              " Text(0.8595505617977528, 0.6071428571428571, 'x[1] <= 69.5\\nsquared_error = 21.692\\nsamples = 13\\nvalue = 49.0'),\n",
              " Text(0.8370786516853933, 0.5357142857142857, 'x[0] <= 0.5\\nsquared_error = 16.512\\nsamples = 11\\nvalue = 47.818'),\n",
              " Text(0.8089887640449438, 0.4642857142857143, 'x[1] <= 66.5\\nsquared_error = 12.56\\nsamples = 5\\nvalue = 45.8'),\n",
              " Text(0.797752808988764, 0.39285714285714285, 'x[1] <= 64.5\\nsquared_error = 2.25\\nsamples = 2\\nvalue = 49.5'),\n",
              " Text(0.7921348314606742, 0.32142857142857145, 'squared_error = 0.0\\nsamples = 1\\nvalue = 51.0'),\n",
              " Text(0.8033707865168539, 0.32142857142857145, 'squared_error = 0.0\\nsamples = 1\\nvalue = 48.0'),\n",
              " Text(0.8202247191011236, 0.39285714285714285, 'x[2] <= 49.0\\nsquared_error = 4.222\\nsamples = 3\\nvalue = 43.333'),\n",
              " Text(0.8146067415730337, 0.32142857142857145, 'squared_error = 0.0\\nsamples = 1\\nvalue = 46.0'),\n",
              " Text(0.8258426966292135, 0.32142857142857145, 'x[1] <= 67.5\\nsquared_error = 1.0\\nsamples = 2\\nvalue = 42.0'),\n",
              " Text(0.8202247191011236, 0.25, 'squared_error = 0.0\\nsamples = 1\\nvalue = 41.0'),\n",
              " Text(0.8314606741573034, 0.25, 'squared_error = 0.0\\nsamples = 1\\nvalue = 43.0'),\n",
              " Text(0.8651685393258427, 0.4642857142857143, 'x[2] <= 64.0\\nsquared_error = 13.583\\nsamples = 6\\nvalue = 49.5'),\n",
              " Text(0.8595505617977528, 0.39285714285714285, 'x[2] <= 54.5\\nsquared_error = 6.16\\nsamples = 5\\nvalue = 50.8'),\n",
              " Text(0.848314606741573, 0.32142857142857145, 'x[2] <= 47.5\\nsquared_error = 2.889\\nsamples = 3\\nvalue = 49.667'),\n",
              " Text(0.8426966292134831, 0.25, 'squared_error = 0.0\\nsamples = 1\\nvalue = 52.0'),\n",
              " Text(0.8539325842696629, 0.25, 'x[2] <= 49.0\\nsquared_error = 0.25\\nsamples = 2\\nvalue = 48.5'),\n",
              " Text(0.848314606741573, 0.17857142857142858, 'squared_error = 0.0\\nsamples = 1\\nvalue = 48.0'),\n",
              " Text(0.8595505617977528, 0.17857142857142858, 'squared_error = 0.0\\nsamples = 1\\nvalue = 49.0'),\n",
              " Text(0.8707865168539326, 0.32142857142857145, 'x[1] <= 67.0\\nsquared_error = 6.25\\nsamples = 2\\nvalue = 52.5'),\n",
              " Text(0.8651685393258427, 0.25, 'squared_error = 0.0\\nsamples = 1\\nvalue = 50.0'),\n",
              " Text(0.8764044943820225, 0.25, 'squared_error = 0.0\\nsamples = 1\\nvalue = 55.0'),\n",
              " Text(0.8707865168539326, 0.39285714285714285, 'squared_error = 0.0\\nsamples = 1\\nvalue = 43.0'),\n",
              " Text(0.8820224719101124, 0.5357142857142857, 'x[2] <= 47.5\\nsquared_error = 0.25\\nsamples = 2\\nvalue = 55.5'),\n",
              " Text(0.8764044943820225, 0.4642857142857143, 'squared_error = 0.0\\nsamples = 1\\nvalue = 56.0'),\n",
              " Text(0.8876404494382022, 0.4642857142857143, 'squared_error = 0.0\\nsamples = 1\\nvalue = 55.0'),\n",
              " Text(0.9606741573033708, 0.75, 'x[1] <= 56.5\\nsquared_error = 83.75\\nsamples = 16\\nvalue = 20.5'),\n",
              " Text(0.9382022471910112, 0.6785714285714286, 'x[1] <= 47.5\\nsquared_error = 68.533\\nsamples = 13\\nvalue = 22.923'),\n",
              " Text(0.9157303370786517, 0.6071428571428571, 'x[1] <= 45.5\\nsquared_error = 52.0\\nsamples = 9\\nvalue = 19.667'),\n",
              " Text(0.9044943820224719, 0.5357142857142857, 'x[2] <= 74.5\\nsquared_error = 43.139\\nsamples = 6\\nvalue = 22.833'),\n",
              " Text(0.898876404494382, 0.4642857142857143, 'squared_error = 0.0\\nsamples = 1\\nvalue = 35.0'),\n",
              " Text(0.9101123595505618, 0.4642857142857143, 'x[2] <= 114.5\\nsquared_error = 16.24\\nsamples = 5\\nvalue = 20.4'),\n",
              " Text(0.9044943820224719, 0.39285714285714285, 'x[1] <= 41.5\\nsquared_error = 2.25\\nsamples = 4\\nvalue = 18.5'),\n",
              " Text(0.898876404494382, 0.32142857142857145, 'squared_error = 0.0\\nsamples = 1\\nvalue = 17.0'),\n",
              " Text(0.9101123595505618, 0.32142857142857145, 'x[1] <= 42.5\\nsquared_error = 2.0\\nsamples = 3\\nvalue = 19.0'),\n",
              " Text(0.9044943820224719, 0.25, 'squared_error = 0.0\\nsamples = 1\\nvalue = 20.0'),\n",
              " Text(0.9157303370786517, 0.25, 'x[1] <= 43.5\\nsquared_error = 2.25\\nsamples = 2\\nvalue = 18.5'),\n",
              " Text(0.9101123595505618, 0.17857142857142858, 'squared_error = 0.0\\nsamples = 1\\nvalue = 17.0'),\n",
              " Text(0.9213483146067416, 0.17857142857142858, 'squared_error = 0.0\\nsamples = 1\\nvalue = 20.0'),\n",
              " Text(0.9157303370786517, 0.39285714285714285, 'squared_error = 0.0\\nsamples = 1\\nvalue = 28.0'),\n",
              " Text(0.9269662921348315, 0.5357142857142857, 'x[2] <= 74.5\\nsquared_error = 9.556\\nsamples = 3\\nvalue = 13.333'),\n",
              " Text(0.9213483146067416, 0.4642857142857143, 'squared_error = 0.0\\nsamples = 1\\nvalue = 9.0'),\n",
              " Text(0.9325842696629213, 0.4642857142857143, 'x[1] <= 46.5\\nsquared_error = 0.25\\nsamples = 2\\nvalue = 15.5'),\n",
              " Text(0.9269662921348315, 0.39285714285714285, 'squared_error = 0.0\\nsamples = 1\\nvalue = 15.0'),\n",
              " Text(0.9382022471910112, 0.39285714285714285, 'squared_error = 0.0\\nsamples = 1\\nvalue = 16.0'),\n",
              " Text(0.9606741573033708, 0.6071428571428571, 'x[2] <= 82.0\\nsquared_error = 28.188\\nsamples = 4\\nvalue = 30.25'),\n",
              " Text(0.949438202247191, 0.5357142857142857, 'x[0] <= 0.5\\nsquared_error = 0.25\\nsamples = 2\\nvalue = 35.5'),\n",
              " Text(0.9438202247191011, 0.4642857142857143, 'squared_error = 0.0\\nsamples = 1\\nvalue = 36.0'),\n",
              " Text(0.9550561797752809, 0.4642857142857143, 'squared_error = 0.0\\nsamples = 1\\nvalue = 35.0'),\n",
              " Text(0.9719101123595506, 0.5357142857142857, 'x[1] <= 52.0\\nsquared_error = 1.0\\nsamples = 2\\nvalue = 25.0'),\n",
              " Text(0.9662921348314607, 0.4642857142857143, 'squared_error = 0.0\\nsamples = 1\\nvalue = 26.0'),\n",
              " Text(0.9775280898876404, 0.4642857142857143, 'squared_error = 0.0\\nsamples = 1\\nvalue = 24.0'),\n",
              " Text(0.9831460674157303, 0.6785714285714286, 'x[1] <= 58.0\\nsquared_error = 14.0\\nsamples = 3\\nvalue = 10.0'),\n",
              " Text(0.9775280898876404, 0.6071428571428571, 'squared_error = 0.0\\nsamples = 1\\nvalue = 5.0'),\n",
              " Text(0.9887640449438202, 0.6071428571428571, 'x[2] <= 82.0\\nsquared_error = 2.25\\nsamples = 2\\nvalue = 12.5'),\n",
              " Text(0.9831460674157303, 0.5357142857142857, 'squared_error = 0.0\\nsamples = 1\\nvalue = 11.0'),\n",
              " Text(0.9943820224719101, 0.5357142857142857, 'squared_error = 0.0\\nsamples = 1\\nvalue = 14.0')]"
            ]
          },
          "metadata": {},
          "execution_count": 18
        },
        {
          "output_type": "display_data",
          "data": {
            "text/plain": [
              "<Figure size 640x480 with 1 Axes>"
            ],
            "image/png": "[encoded data removed]"
          },
          "metadata": {}
        }
      ]
    }
  ],
  "metadata": {
    "colab": {
      "provenance": []
    },
    "kernelspec": {
      "display_name": "Python 3",
      "name": "python3"
    },
    "language_info": {
      "name": "python"
    }
  },
  "nbformat": 4,
  "nbformat_minor": 0
}